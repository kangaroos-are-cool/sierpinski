{
 "cells": [
  {
   "cell_type": "code",
   "execution_count": null,
   "id": "fe56e476",
   "metadata": {
    "collapsed": true
   },
   "outputs": [],
   "source": [
    "#############################\n",
    "#User input to configure game\n",
    "#############################\n",
    "\n",
    "N=4 #Number of vertices\n",
    "r=2/3 #Ratio for step size\n",
    "T=1e5 #number if iterations \n",
    "\n",
    "#############################\n",
    "#import python packages for calculations and plotting\n",
    "#############################\n",
    "import numpy as np\n",
    "%matplotlib widget \n",
    "import matplotlib.pyplot as plt\n",
    "\n",
    "#############################\n",
    "#initialize\n",
    "#############################\n",
    "#make sure T is integer type\n",
    "T=int(T) \n",
    "\n",
    "#Compute coordinates of the N vertices and assign a random color to each\n",
    "thetaV=2*np.pi*np.arange(N)/N\n",
    "zV=np.exp(1j*thetaV)\n",
    "colorV=np.random.rand(N,3)\n",
    "\n",
    "#use random point for initial condition\n",
    "zP=np.random.rand(1)+1j*np.random.rand(1) \n",
    "\n",
    "#Initialize arrays for x and y coordinates of points\n",
    "xSave=np.zeros(T)\n",
    "ySave=np.zeros(T)\n",
    "\n",
    "#generate random sequence of vertices to move toward\n",
    "Vseq=np.random.randint(N,size=T)\n",
    "\n",
    "#############################\n",
    "#iterate for 10 times without storing\n",
    "#############################\n",
    "for ii in range(10):\n",
    "    indV=np.random.randint(N);\n",
    "    zP=zP + r*(zV[indV]-zP)\n",
    "\n",
    "#############################\n",
    "#iterate T times and store locations\n",
    "#############################\n",
    "for ii in range(T):\n",
    "    indV=Vseq[ii];\n",
    "    zP=zP + r*(zV[indV]-zP)\n",
    "    ySave[ii]=zP.real #Orient with first vertex on y axis\n",
    "    xSave[ii]=zP.imag "
   ]
  },
  {
   "cell_type": "code",
   "execution_count": null,
   "id": "3c546b71",
   "metadata": {},
   "outputs": [],
   "source": [
    "#############################\n",
    "# Plot the stored locations\n",
    "#############################\n",
    "plt.scatter(xSave,ySave,s=.1,c=colorV[Vseq,0:3])\n",
    "plt.axis('equal')\n",
    "plt.show()"
   ]
  }
 ],
 "metadata": {
  "kernelspec": {
   "display_name": "Python 3",
   "language": "python",
   "name": "python3"
  },
  "language_info": {
   "codemirror_mode": {
    "name": "ipython",
    "version": 3
   },
   "file_extension": ".py",
   "mimetype": "text/x-python",
   "name": "python",
   "nbconvert_exporter": "python",
   "pygments_lexer": "ipython3",
   "version": "3.5.4"
  }
 },
 "nbformat": 4,
 "nbformat_minor": 5
}
